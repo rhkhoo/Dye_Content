{
 "cells": [
  {
   "cell_type": "markdown",
   "metadata": {},
   "source": [
    "# FD&C Dye Content"
   ]
  },
  {
   "cell_type": "markdown",
   "metadata": {},
   "source": [
    "This notebook creates three linear regression models to determine the dye content of several liquid samples."
   ]
  },
  {
   "cell_type": "code",
   "execution_count": 1,
   "metadata": {},
   "outputs": [],
   "source": [
    "import pandas as pd\n",
    "import seaborn as sns\n",
    "import matplotlib.pyplot as plt\n",
    "import numpy as np\n",
    "\n",
    "from sklearn.linear_model import LinearRegression"
   ]
  },
  {
   "cell_type": "code",
   "execution_count": 2,
   "metadata": {},
   "outputs": [],
   "source": [
    "#Wavelength of maximum absorbance (nm)\n",
    "blue_max = 630\n",
    "red_max = 505\n",
    "yellow_max = 429\n",
    "\n",
    "#Molar mass of each dye (g/mol)\n",
    "blue_mass = 791.84\n",
    "red_mass = 496.42\n",
    "yellow_mass = 534.30\n",
    "\n",
    "#Molar absorptivities (L/ (mol * cm))\n",
    "blue_eps = 1.05E5\n",
    "red_eps = 2.50E4\n",
    "yellow_eps = 2.12E4\n",
    "\n",
    "def calc_mass(lr, absorbance, color, serving_size = 100, other_dye = 'None', absorbance_2 = 0):\n",
    "    #Calculates the mass of the specified dye in a single serving\n",
    "    #Requires the linear regression to have already been performed\n",
    "    #Args:\n",
    "        # lr: The linear regression model used to calibrate\n",
    "        # Absorbance: a unitless reading from spectrophotometer\n",
    "        # Color: a string of 'red', 'blue', or 'yellow'\n",
    "        # Serving size: milliliters per serving of sample\n",
    "        # other_dye: if the sample contains more than one dye, the overlap must be accounted for\n",
    "        #            a string of 'red', 'blue', or 'yellow'\n",
    "        # absorbance_2: the absorbance at the other dye's lambda max\n",
    "        \n",
    "    if color =='red' and other_dye == 'blue':\n",
    "        absorbance_norm = (absorbance - 0.0067 * absorbance_2)/(1-(0.0067*0.0462))\n",
    "    elif color =='blue' and other_dye =='red':\n",
    "        absorbance_norm = (absorbance - 0.0462 * absorbance_2)/(1-(0.0067*0.0462))\n",
    "    elif color =='red' and other_dye =='yellow':\n",
    "        absorbance_norm = (absorbance - 0.291 * absorbance_2)\n",
    "    elif color == 'blue' and other_dye =='yellow':\n",
    "        absorbance_norm = (absorbance - 0.0219 * absorbance_2)/(1-(0.0219 * 0.00604))\n",
    "    elif color == 'yellow' and other_dye =='red':\n",
    "        absorbance_norm = absorbance\n",
    "    elif color =='yellow' and other_dye == 'blue':\n",
    "        absorbance_norm = (absorbance - 0.00604 * absorbance_2)/(1-(0.00604 * 0.0219))                        \n",
    "    else:\n",
    "        absorbance_norm = absorbance\n",
    "        \n",
    "        \n",
    "    concentration = absorbance_norm / lr.coef_[0]\n",
    "    if color == 'blue':\n",
    "        mass = serving_size * concentration * blue_mass \n",
    "        return(f'The mass of Blue 1 is {round(mass, 4)} mg.')\n",
    "    elif color == 'red':\n",
    "        mass = serving_size * concentration * red_mass\n",
    "        return(f'The mass of Red 40 is {round(mass, 4)} mg.')\n",
    "    else:\n",
    "        mass = serving_size * concentration * yellow_mass\n",
    "        return(f'The mass of Yellow 5 is {round(mass, 4)} mg.')\n",
    "    "
   ]
  },
  {
   "cell_type": "markdown",
   "metadata": {},
   "source": [
    "# Blue 1"
   ]
  },
  {
   "cell_type": "code",
   "execution_count": 3,
   "metadata": {},
   "outputs": [],
   "source": [
    "blue = pd.read_csv('CSVs/Calibration/Blue 1 Calibration Curve for Pandas.csv')"
   ]
  },
  {
   "cell_type": "code",
   "execution_count": 4,
   "metadata": {},
   "outputs": [],
   "source": [
    "blue = blue[['Wavelength (nm)', 'Abs', 'Concentration']]"
   ]
  },
  {
   "cell_type": "code",
   "execution_count": 5,
   "metadata": {},
   "outputs": [],
   "source": [
    "blue['Wavelength (nm)'] = blue['Wavelength (nm)'].round(0)"
   ]
  },
  {
   "cell_type": "code",
   "execution_count": 6,
   "metadata": {},
   "outputs": [],
   "source": [
    "blue_cal_df = blue[blue['Wavelength (nm)'] == blue_max]"
   ]
  },
  {
   "cell_type": "code",
   "execution_count": 7,
   "metadata": {
    "scrolled": true
   },
   "outputs": [
    {
     "data": {
      "image/png": "[encoded data removed]",
      "text/plain": [
       "<Figure size 432x288 with 1 Axes>"
      ]
     },
     "metadata": {
      "needs_background": "light"
     },
     "output_type": "display_data"
    }
   ],
   "source": [
    "sns.scatterplot(data = blue_cal_df, x = 'Concentration', y = 'Abs')\n",
    "plt.xlim(0, 1E-5)\n",
    "plt.xlabel('Concentration (M)')\n",
    "plt.ylabel('Absorbance')\n",
    "plt.title('Calibration curve for Blue 1')\n",
    "plt.show()"
   ]
  },
  {
   "cell_type": "code",
   "execution_count": 8,
   "metadata": {},
   "outputs": [
    {
     "name": "stdout",
     "output_type": "stream",
     "text": [
      "The R-Squared value for the Blue 1 calibration curve is 0.99998\n"
     ]
    }
   ],
   "source": [
    "X_blue = np.array(blue_cal_df['Concentration']).reshape(-1, 1)\n",
    "y_blue = blue_cal_df['Abs']\n",
    "lr_blue = LinearRegression()\n",
    "lr_blue.fit(X_blue, y_blue)\n",
    "print(f'The R-Squared value for the Blue 1 calibration curve is {round(lr_blue.score(X_blue, y_blue), 5)}')"
   ]
  },
  {
   "cell_type": "code",
   "execution_count": 9,
   "metadata": {
    "scrolled": true
   },
   "outputs": [
    {
     "data": {
      "text/plain": [
       "105430.95800879112"
      ]
     },
     "execution_count": 9,
     "metadata": {},
     "output_type": "execute_result"
    }
   ],
   "source": [
    "lr_blue.coef_[0]"
   ]
  },
  {
   "cell_type": "markdown",
   "metadata": {},
   "source": [
    "The linear regression has a great R-Squared score, and the coefficient is very close to the literature value for Blue 1's molar absorptivity (1.050E5)."
   ]
  },
  {
   "cell_type": "markdown",
   "metadata": {},
   "source": [
    "# Red 40"
   ]
  },
  {
   "cell_type": "code",
   "execution_count": 10,
   "metadata": {},
   "outputs": [],
   "source": [
    "red = pd.read_csv('CSVs/Calibration/Red Calibration Curve for Pandas.csv')"
   ]
  },
  {
   "cell_type": "code",
   "execution_count": 11,
   "metadata": {},
   "outputs": [],
   "source": [
    "red['Wavelength'] =red['Wavelength'].round(0)"
   ]
  },
  {
   "cell_type": "code",
   "execution_count": 12,
   "metadata": {
    "scrolled": true
   },
   "outputs": [],
   "source": [
    "red_cal_df = red[red['Wavelength'] == red_max]"
   ]
  },
  {
   "cell_type": "code",
   "execution_count": 13,
   "metadata": {},
   "outputs": [
    {
     "data": {
      "image/png": "[encoded data removed]",
      "text/plain": [
       "<Figure size 432x288 with 1 Axes>"
      ]
     },
     "metadata": {
      "needs_background": "light"
     },
     "output_type": "display_data"
    }
   ],
   "source": [
    "sns.scatterplot(data = red_cal_df, x = 'Concentration', y = 'Abs')\n",
    "plt.xlim(-0.00001, 9E-5)\n",
    "plt.xlabel('Concentration (M)')\n",
    "plt.ylabel('Absorbance')\n",
    "plt.title('Calibration curve for Red 40')\n",
    "plt.show()"
   ]
  },
  {
   "cell_type": "code",
   "execution_count": 14,
   "metadata": {},
   "outputs": [
    {
     "name": "stdout",
     "output_type": "stream",
     "text": [
      "The R-Squared value for the Red 40 calibration curve is 0.99948\n"
     ]
    }
   ],
   "source": [
    "X_red = np.array(red_cal_df['Concentration']).reshape(-1, 1)\n",
    "y_red = red_cal_df['Abs']\n",
    "lr_red = LinearRegression()\n",
    "lr_red.fit(X_red, y_red)\n",
    "print(f'The R-Squared value for the Red 40 calibration curve is {round(lr_red.score(X_red, y_red), 5)}')"
   ]
  },
  {
   "cell_type": "code",
   "execution_count": 15,
   "metadata": {},
   "outputs": [
    {
     "data": {
      "text/plain": [
       "25010.5118021155"
      ]
     },
     "execution_count": 15,
     "metadata": {},
     "output_type": "execute_result"
    }
   ],
   "source": [
    "lr_red.coef_[0]"
   ]
  },
  {
   "cell_type": "markdown",
   "metadata": {},
   "source": [
    "The linear regression has a great R-Squared score, and the coefficient is very close to the literature value for Red 40's molar absorptivity (2.50E4)"
   ]
  },
  {
   "cell_type": "markdown",
   "metadata": {},
   "source": [
    "# Yellow 5"
   ]
  },
  {
   "cell_type": "code",
   "execution_count": 16,
   "metadata": {},
   "outputs": [],
   "source": [
    "yellow = pd.read_csv('CSVs/Calibration/Yellow Calibration Curve for Pandas.csv')"
   ]
  },
  {
   "cell_type": "code",
   "execution_count": 17,
   "metadata": {},
   "outputs": [],
   "source": [
    "yellow['Wavelength (nm)'] = yellow['Wavelength (nm)'].round(0)"
   ]
  },
  {
   "cell_type": "code",
   "execution_count": 18,
   "metadata": {},
   "outputs": [],
   "source": [
    "yellow_cal_df = yellow[yellow['Wavelength (nm)'] == yellow_max]"
   ]
  },
  {
   "cell_type": "code",
   "execution_count": 19,
   "metadata": {},
   "outputs": [
    {
     "data": {
      "image/png": "[encoded data removed]",
      "text/plain": [
       "<Figure size 432x288 with 1 Axes>"
      ]
     },
     "metadata": {
      "needs_background": "light"
     },
     "output_type": "display_data"
    }
   ],
   "source": [
    "sns.scatterplot(data = yellow_cal_df, x = 'Concentration', y = 'Abs')\n",
    "plt.xlim(0, 1E-5)\n",
    "plt.xlabel('Concentration (M)')\n",
    "plt.ylabel('Absorbance')\n",
    "plt.title('Calibration curve for Yellow 5')\n",
    "plt.show()"
   ]
  },
  {
   "cell_type": "code",
   "execution_count": 20,
   "metadata": {},
   "outputs": [
    {
     "name": "stdout",
     "output_type": "stream",
     "text": [
      "The R-Squared value for the Yellow 5 calibration curve is 0.99991\n"
     ]
    }
   ],
   "source": [
    "X_yellow = np.array(yellow_cal_df['Concentration']).reshape(-1, 1)\n",
    "y_yellow = yellow_cal_df['Abs']\n",
    "lr_yellow = LinearRegression()\n",
    "lr_yellow.fit(X_yellow, y_yellow)\n",
    "print(f'The R-Squared value for the Yellow 5 calibration curve is {round(lr_yellow.score(X_yellow, y_yellow), 5)}')"
   ]
  },
  {
   "cell_type": "code",
   "execution_count": 21,
   "metadata": {
    "scrolled": true
   },
   "outputs": [
    {
     "data": {
      "text/plain": [
       "21207.759465370305"
      ]
     },
     "execution_count": 21,
     "metadata": {},
     "output_type": "execute_result"
    }
   ],
   "source": [
    "lr_yellow.coef_[0]"
   ]
  },
  {
   "cell_type": "markdown",
   "metadata": {},
   "source": [
    "The linear regression has a great R-Squared score, and the coefficient is very close to the literature value for Yellow 5's molar absorptivity (2.12E4)."
   ]
  },
  {
   "cell_type": "markdown",
   "metadata": {},
   "source": [
    "# Sample"
   ]
  },
  {
   "cell_type": "markdown",
   "metadata": {},
   "source": [
    "For the sake of space, only one sample will be shown in this notebook. For full explanation of the calculations, you can view either the Appendix or the full paper in this repo."
   ]
  },
  {
   "cell_type": "code",
   "execution_count": 22,
   "metadata": {},
   "outputs": [],
   "source": [
    "mdew = pd.read_csv('CSVs/Samples/Mnt Dew.csv')"
   ]
  },
  {
   "cell_type": "code",
   "execution_count": 23,
   "metadata": {
    "scrolled": false
   },
   "outputs": [
    {
     "data": {
      "image/png": "[encoded data removed]",
      "text/plain": [
       "<Figure size 432x288 with 1 Axes>"
      ]
     },
     "metadata": {
      "needs_background": "light"
     },
     "output_type": "display_data"
    }
   ],
   "source": [
    "sns.lineplot(data = mdew, x = 'Wavelength (nm)', y = 'Abs')\n",
    "plt.xlim(350, 800)\n",
    "plt.ylim(0, 0.6)\n",
    "plt.title('Absorption Spectrum for Mountain Dew')\n",
    "plt.show()"
   ]
  },
  {
   "cell_type": "code",
   "execution_count": 24,
   "metadata": {},
   "outputs": [],
   "source": [
    "mdew['Wavelength (nm)'] = mdew['Wavelength (nm)'].round(0)"
   ]
  },
  {
   "cell_type": "markdown",
   "metadata": {},
   "source": [
    "We only care about the absorbance at 429 nm, since that is the lambda max for Yellow 5."
   ]
  },
  {
   "cell_type": "code",
   "execution_count": 25,
   "metadata": {},
   "outputs": [],
   "source": [
    "mdew_abs = list(mdew[mdew['Wavelength (nm)'] == yellow_max]['Abs'])[0]"
   ]
  },
  {
   "cell_type": "markdown",
   "metadata": {},
   "source": [
    "First, I calculate the mass of Yellow 5 in 100 mL of sample."
   ]
  },
  {
   "cell_type": "code",
   "execution_count": 26,
   "metadata": {},
   "outputs": [
    {
     "data": {
      "text/plain": [
       "'The mass of Yellow 5 is 1.0252 mg.'"
      ]
     },
     "execution_count": 26,
     "metadata": {},
     "output_type": "execute_result"
    }
   ],
   "source": [
    "calc_mass(lr = lr_yellow, absorbance = mdew_abs, color = 'yellow', serving_size = 100)"
   ]
  },
  {
   "cell_type": "markdown",
   "metadata": {},
   "source": [
    "Then, I calculate the mass of Yellow 5 in one serving of Mountian Dew, which is 591 mL."
   ]
  },
  {
   "cell_type": "code",
   "execution_count": 27,
   "metadata": {},
   "outputs": [
    {
     "data": {
      "text/plain": [
       "'The mass of Yellow 5 is 6.0591 mg.'"
      ]
     },
     "execution_count": 27,
     "metadata": {},
     "output_type": "execute_result"
    }
   ],
   "source": [
    "calc_mass(lr = lr_yellow, absorbance = mdew_abs, color = 'yellow', serving_size = 591)"
   ]
  },
  {
   "cell_type": "markdown",
   "metadata": {},
   "source": [
    "# Sample with two dyes"
   ]
  },
  {
   "cell_type": "code",
   "execution_count": 28,
   "metadata": {},
   "outputs": [],
   "source": [
    "plyte = pd.read_csv('CSVs/Samples/Pedialyte Grape.csv')"
   ]
  },
  {
   "cell_type": "code",
   "execution_count": 29,
   "metadata": {},
   "outputs": [],
   "source": [
    "plyte.drop('Unnamed: 2', axis=1, inplace = True)\n",
    "plyte['Wavelength (nm)'] = plyte['Wavelength (nm)'].round(0)"
   ]
  },
  {
   "cell_type": "code",
   "execution_count": 30,
   "metadata": {},
   "outputs": [
    {
     "data": {
      "image/png": "[encoded data removed]",
      "text/plain": [
       "<Figure size 432x288 with 1 Axes>"
      ]
     },
     "metadata": {
      "needs_background": "light"
     },
     "output_type": "display_data"
    }
   ],
   "source": [
    "sns.lineplot(data = plyte, x = 'Wavelength (nm)', y = 'Abs')\n",
    "plt.xlim(350, 800)\n",
    "plt.ylim(0, 0.2)\n",
    "plt.title('Absorption Spectrum for Grape Pedialyte')\n",
    "plt.show()"
   ]
  },
  {
   "cell_type": "code",
   "execution_count": 31,
   "metadata": {},
   "outputs": [],
   "source": [
    "plyte_505 = list(plyte[plyte['Wavelength (nm)'] == red_max]['Abs'])[0]\n",
    "plyte_630 = list(plyte[plyte['Wavelength (nm)'] == blue_max]['Abs'])[0]"
   ]
  },
  {
   "cell_type": "markdown",
   "metadata": {},
   "source": [
    "The mass of dye in 100 mL:"
   ]
  },
  {
   "cell_type": "code",
   "execution_count": 32,
   "metadata": {
    "scrolled": true
   },
   "outputs": [
    {
     "data": {
      "text/plain": [
       "'The mass of Red 40 is 0.3169 mg.'"
      ]
     },
     "execution_count": 32,
     "metadata": {},
     "output_type": "execute_result"
    }
   ],
   "source": [
    "calc_mass(lr= lr_red, absorbance = plyte_505, color ='red', serving_size=100, other_dye = 'blue', absorbance_2 = plyte_630)"
   ]
  },
  {
   "cell_type": "code",
   "execution_count": 33,
   "metadata": {
    "scrolled": true
   },
   "outputs": [
    {
     "data": {
      "text/plain": [
       "'The mass of Blue 1 is 0.0893 mg.'"
      ]
     },
     "execution_count": 33,
     "metadata": {},
     "output_type": "execute_result"
    }
   ],
   "source": [
    "calc_mass(lr= lr_blue, absorbance = plyte_630, color ='blue', serving_size=100, other_dye = 'red', absorbance_2 = plyte_505)"
   ]
  },
  {
   "cell_type": "markdown",
   "metadata": {},
   "source": [
    "The mass of dye in one serving (237 mL):"
   ]
  },
  {
   "cell_type": "code",
   "execution_count": 34,
   "metadata": {},
   "outputs": [
    {
     "data": {
      "text/plain": [
       "'The mass of Red 40 is 0.7511 mg.'"
      ]
     },
     "execution_count": 34,
     "metadata": {},
     "output_type": "execute_result"
    }
   ],
   "source": [
    "calc_mass(lr= lr_red, absorbance = plyte_505, color ='red', serving_size=237, other_dye = 'blue', absorbance_2 = plyte_630)"
   ]
  },
  {
   "cell_type": "code",
   "execution_count": 35,
   "metadata": {},
   "outputs": [
    {
     "data": {
      "text/plain": [
       "'The mass of Blue 1 is 0.2116 mg.'"
      ]
     },
     "execution_count": 35,
     "metadata": {},
     "output_type": "execute_result"
    }
   ],
   "source": [
    "calc_mass(lr= lr_blue, absorbance = plyte_630, color ='blue', serving_size=237, other_dye = 'red', absorbance_2 = plyte_505)"
   ]
  }
 ],
 "metadata": {
  "kernelspec": {
   "display_name": "Python 3",
   "language": "python",
   "name": "python3"
  },
  "language_info": {
   "codemirror_mode": {
    "name": "ipython",
    "version": 3
   },
   "file_extension": ".py",
   "mimetype": "text/x-python",
   "name": "python",
   "nbconvert_exporter": "python",
   "pygments_lexer": "ipython3",
   "version": "3.7.10"
  }
 },
 "nbformat": 4,
 "nbformat_minor": 4
}
