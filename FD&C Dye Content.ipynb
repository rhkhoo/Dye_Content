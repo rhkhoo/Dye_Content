{
 "cells": [
  {
   "cell_type": "markdown",
   "metadata": {},
   "source": [
    "# FD&C Dye Content"
   ]
  },
  {
   "cell_type": "markdown",
   "metadata": {},
   "source": [
    "This notebook creates three linear regression models to determine the dye content of several liquid samples."
   ]
  },
  {
   "cell_type": "code",
   "execution_count": 2,
   "metadata": {},
   "outputs": [],
   "source": [
    "import pandas as pd\n",
    "import seaborn as sns\n",
    "import matplotlib.pyplot as plt\n",
    "import numpy as np\n",
    "\n",
    "from sklearn.linear_model import LinearRegression"
   ]
  },
  {
   "cell_type": "code",
   "execution_count": 68,
   "metadata": {},
   "outputs": [],
   "source": [
    "#Wavelength of maximum absorbance (nm)\n",
    "blue_max = 630\n",
    "red_max = 505\n",
    "yellow_max = 429\n",
    "\n",
    "#Molar mass of each dye (g/mol)\n",
    "blue_mass = 791.84\n",
    "red_mass = 496.42\n",
    "yellow_mass = 534.30\n",
    "\n",
    "#Molar absorptivities (L/ (mol * cm))\n",
    "blue_eps = 1.05E5\n",
    "red_eps = 2.50E4\n",
    "yellow_eps = 2.12E4\n",
    "\n",
    "def calc_mass(lr, absorbance, color, serving_size = 100):\n",
    "    #Calculates the mass of the specified dye in a single serving\n",
    "    #Requires the linear regression to have already been performed\n",
    "    #Args:\n",
    "        # lr: The linear regression model used to calibrate\n",
    "        # Absorbance: a unitless reading from spectrophotometer\n",
    "        # Color: a string of 'red', 'blue', or 'yellow'\n",
    "        # Serving size: milliliters per serving of sample\n",
    "              \n",
    "    concentration = absorbance / lr.coef_[0]\n",
    "    if color == 'blue':\n",
    "        mass = serving_size * concentration * blue_mass \n",
    "        return(f'The mass of Blue 1 is {round(mass, 4)} mg.')\n",
    "    elif color == 'red':\n",
    "        mass = serving_size * concentration * red_mass\n",
    "        return(f'The mass of Red 40 is {round(mass, 4)} mg.')\n",
    "    else:\n",
    "        mass = serving_size * concentration * yellow_mass\n",
    "        return(f'The mass of Yellow 5 is {round(mass, 4)} mg.')\n",
    "    "
   ]
  },
  {
   "cell_type": "markdown",
   "metadata": {},
   "source": [
    "# Blue 1"
   ]
  },
  {
   "cell_type": "code",
   "execution_count": 4,
   "metadata": {},
   "outputs": [],
   "source": [
    "blue = pd.read_csv('CSVs/Calibration/Blue 1 Calibration Curve for Pandas.csv')"
   ]
  },
  {
   "cell_type": "code",
   "execution_count": 5,
   "metadata": {},
   "outputs": [],
   "source": [
    "blue = blue[['Wavelength (nm)', 'Abs', 'Concentration']]"
   ]
  },
  {
   "cell_type": "code",
   "execution_count": 6,
   "metadata": {},
   "outputs": [],
   "source": [
    "blue['Wavelength (nm)'] = blue['Wavelength (nm)'].round(0)"
   ]
  },
  {
   "cell_type": "code",
   "execution_count": 7,
   "metadata": {},
   "outputs": [],
   "source": [
    "blue_cal_df = blue[blue['Wavelength (nm)'] == blue_max]"
   ]
  },
  {
   "cell_type": "code",
   "execution_count": 8,
   "metadata": {
    "scrolled": true
   },
   "outputs": [
    {
     "data": {
      "image/png": "[encoded data removed]",
      "text/plain": [
       "<Figure size 432x288 with 1 Axes>"
      ]
     },
     "metadata": {
      "needs_background": "light"
     },
     "output_type": "display_data"
    }
   ],
   "source": [
    "sns.scatterplot(data = blue_cal_df, x = 'Concentration', y = 'Abs')\n",
    "plt.xlim(0, 1E-5)\n",
    "plt.xlabel('Concentration (M)')\n",
    "plt.ylabel('Absorbance')\n",
    "plt.title('Calibration curve for Blue 1')\n",
    "plt.show()"
   ]
  },
  {
   "cell_type": "code",
   "execution_count": 9,
   "metadata": {},
   "outputs": [
    {
     "name": "stdout",
     "output_type": "stream",
     "text": [
      "The R-Squared value for the Blue 1 calibration curve is 0.99998\n"
     ]
    }
   ],
   "source": [
    "X_blue = np.array(blue_cal_df['Concentration']).reshape(-1, 1)\n",
    "y_blue = blue_cal_df['Abs']\n",
    "lr_blue = LinearRegression()\n",
    "lr_blue.fit(X_blue, y_blue)\n",
    "print(f'The R-Squared value for the Blue 1 calibration curve is {round(lr_blue.score(X_blue, y_blue), 5)}')"
   ]
  },
  {
   "cell_type": "code",
   "execution_count": 94,
   "metadata": {
    "scrolled": true
   },
   "outputs": [
    {
     "data": {
      "text/plain": [
       "105430.95800879112"
      ]
     },
     "execution_count": 94,
     "metadata": {},
     "output_type": "execute_result"
    }
   ],
   "source": [
    "lr_blue.coef_[0]"
   ]
  },
  {
   "cell_type": "markdown",
   "metadata": {},
   "source": [
    "The linear regression has a great R-Squared score, and the coefficient is very close to the literature value for Blue 1's molar absorptivity (1.050E5)."
   ]
  },
  {
   "cell_type": "markdown",
   "metadata": {},
   "source": [
    "# Red 40"
   ]
  },
  {
   "cell_type": "code",
   "execution_count": 10,
   "metadata": {},
   "outputs": [],
   "source": [
    "red = pd.read_csv('CSVs/Calibration/Red Calibration Curve for Pandas.csv')"
   ]
  },
  {
   "cell_type": "code",
   "execution_count": 11,
   "metadata": {},
   "outputs": [],
   "source": [
    "red['Wavelength'] =red['Wavelength'].round(0)"
   ]
  },
  {
   "cell_type": "code",
   "execution_count": 12,
   "metadata": {
    "scrolled": true
   },
   "outputs": [
    {
     "data": {
      "text/html": [
       "<div>\n",
       "<style scoped>\n",
       "    .dataframe tbody tr th:only-of-type {\n",
       "        vertical-align: middle;\n",
       "    }\n",
       "\n",
       "    .dataframe tbody tr th {\n",
       "        vertical-align: top;\n",
       "    }\n",
       "\n",
       "    .dataframe thead th {\n",
       "        text-align: right;\n",
       "    }\n",
       "</style>\n",
       "<table border=\"1\" class=\"dataframe\">\n",
       "  <thead>\n",
       "    <tr style=\"text-align: right;\">\n",
       "      <th></th>\n",
       "      <th>Wavelength</th>\n",
       "      <th>Abs</th>\n",
       "      <th>Concentration</th>\n",
       "    </tr>\n",
       "  </thead>\n",
       "  <tbody>\n",
       "    <tr>\n",
       "      <th>59</th>\n",
       "      <td>505.0</td>\n",
       "      <td>1.030879</td>\n",
       "      <td>3.990000e-05</td>\n",
       "    </tr>\n",
       "    <tr>\n",
       "      <th>180</th>\n",
       "      <td>505.0</td>\n",
       "      <td>0.506138</td>\n",
       "      <td>2.000000e-05</td>\n",
       "    </tr>\n",
       "    <tr>\n",
       "      <th>301</th>\n",
       "      <td>505.0</td>\n",
       "      <td>1.506775</td>\n",
       "      <td>5.990000e-05</td>\n",
       "    </tr>\n",
       "    <tr>\n",
       "      <th>422</th>\n",
       "      <td>505.0</td>\n",
       "      <td>1.232016</td>\n",
       "      <td>4.790000e-05</td>\n",
       "    </tr>\n",
       "    <tr>\n",
       "      <th>543</th>\n",
       "      <td>505.0</td>\n",
       "      <td>1.984208</td>\n",
       "      <td>7.990000e-05</td>\n",
       "    </tr>\n",
       "    <tr>\n",
       "      <th>664</th>\n",
       "      <td>505.0</td>\n",
       "      <td>0.097510</td>\n",
       "      <td>4.000000e-06</td>\n",
       "    </tr>\n",
       "    <tr>\n",
       "      <th>785</th>\n",
       "      <td>505.0</td>\n",
       "      <td>0.000936</td>\n",
       "      <td>3.990000e-09</td>\n",
       "    </tr>\n",
       "    <tr>\n",
       "      <th>906</th>\n",
       "      <td>505.0</td>\n",
       "      <td>0.208014</td>\n",
       "      <td>8.000000e-06</td>\n",
       "    </tr>\n",
       "    <tr>\n",
       "      <th>1027</th>\n",
       "      <td>505.0</td>\n",
       "      <td>0.417237</td>\n",
       "      <td>1.600000e-05</td>\n",
       "    </tr>\n",
       "  </tbody>\n",
       "</table>\n",
       "</div>"
      ],
      "text/plain": [
       "      Wavelength       Abs  Concentration\n",
       "59         505.0  1.030879   3.990000e-05\n",
       "180        505.0  0.506138   2.000000e-05\n",
       "301        505.0  1.506775   5.990000e-05\n",
       "422        505.0  1.232016   4.790000e-05\n",
       "543        505.0  1.984208   7.990000e-05\n",
       "664        505.0  0.097510   4.000000e-06\n",
       "785        505.0  0.000936   3.990000e-09\n",
       "906        505.0  0.208014   8.000000e-06\n",
       "1027       505.0  0.417237   1.600000e-05"
      ]
     },
     "execution_count": 12,
     "metadata": {},
     "output_type": "execute_result"
    }
   ],
   "source": [
    "red_cal_df = red[red['Wavelength'] == red_max]"
   ]
  },
  {
   "cell_type": "code",
   "execution_count": 13,
   "metadata": {},
   "outputs": [
    {
     "data": {
      "image/png": "[encoded data removed]",
      "text/plain": [
       "<Figure size 432x288 with 1 Axes>"
      ]
     },
     "metadata": {
      "needs_background": "light"
     },
     "output_type": "display_data"
    }
   ],
   "source": [
    "sns.scatterplot(data = red_cal_df, x = 'Concentration', y = 'Abs')\n",
    "plt.xlim(-0.00001, 9E-5)\n",
    "plt.xlabel('Concentration (M)')\n",
    "plt.ylabel('Absorbance')\n",
    "plt.title('Calibration curve for Red 40')\n",
    "plt.show()"
   ]
  },
  {
   "cell_type": "code",
   "execution_count": 14,
   "metadata": {},
   "outputs": [
    {
     "name": "stdout",
     "output_type": "stream",
     "text": [
      "The R-Squared value for the Red 40 calibration curve is 0.99948\n"
     ]
    }
   ],
   "source": [
    "X_red = np.array(red_cal_df['Concentration']).reshape(-1, 1)\n",
    "y_red = red_cal_df['Abs']\n",
    "lr_red = LinearRegression()\n",
    "lr_red.fit(X_red, y_red)\n",
    "print(f'The R-Squared value for the Red 40 calibration curve is {round(lr_red.score(X_red, y_red), 5)}')"
   ]
  },
  {
   "cell_type": "code",
   "execution_count": 93,
   "metadata": {},
   "outputs": [
    {
     "data": {
      "text/plain": [
       "25010.511802115496"
      ]
     },
     "execution_count": 93,
     "metadata": {},
     "output_type": "execute_result"
    }
   ],
   "source": [
    "lr_red.coef_[0]"
   ]
  },
  {
   "cell_type": "markdown",
   "metadata": {},
   "source": [
    "The linear regression has a great R-Squared score, and the coefficient is very close to the literature value for Red 40's molar absorptivity (2.50E4)"
   ]
  },
  {
   "cell_type": "markdown",
   "metadata": {},
   "source": [
    "# Yellow 5"
   ]
  },
  {
   "cell_type": "code",
   "execution_count": 15,
   "metadata": {},
   "outputs": [],
   "source": [
    "yellow = pd.read_csv('CSVs/Calibration/Yellow Calibration Curve for Pandas.csv')"
   ]
  },
  {
   "cell_type": "code",
   "execution_count": 16,
   "metadata": {},
   "outputs": [],
   "source": [
    "yellow['Wavelength (nm)'] = yellow['Wavelength (nm)'].round(0)"
   ]
  },
  {
   "cell_type": "code",
   "execution_count": 17,
   "metadata": {},
   "outputs": [],
   "source": [
    "yellow_cal_df = yellow[yellow['Wavelength (nm)'] == yellow_max]"
   ]
  },
  {
   "cell_type": "code",
   "execution_count": 18,
   "metadata": {},
   "outputs": [
    {
     "data": {
      "image/png": "[encoded data removed]",
      "text/plain": [
       "<Figure size 432x288 with 1 Axes>"
      ]
     },
     "metadata": {
      "needs_background": "light"
     },
     "output_type": "display_data"
    }
   ],
   "source": [
    "sns.scatterplot(data = yellow_cal_df, x = 'Concentration', y = 'Abs')\n",
    "plt.xlim(0, 1E-5)\n",
    "plt.xlabel('Concentration (M)')\n",
    "plt.ylabel('Absorbance')\n",
    "plt.title('Calibration curve for Yellow 5')\n",
    "plt.show()"
   ]
  },
  {
   "cell_type": "code",
   "execution_count": 19,
   "metadata": {},
   "outputs": [
    {
     "name": "stdout",
     "output_type": "stream",
     "text": [
      "The R-Squared value for the Yellow 5 calibration curve is 0.99991\n"
     ]
    }
   ],
   "source": [
    "X_yellow = np.array(yellow_cal_df['Concentration']).reshape(-1, 1)\n",
    "y_yellow = yellow_cal_df['Abs']\n",
    "lr_yellow = LinearRegression()\n",
    "lr_yellow.fit(X_yellow, y_yellow)\n",
    "print(f'The R-Squared value for the Yellow 5 calibration curve is {round(lr_yellow.score(X_yellow, y_yellow), 5)}')"
   ]
  },
  {
   "cell_type": "code",
   "execution_count": 95,
   "metadata": {
    "scrolled": true
   },
   "outputs": [
    {
     "data": {
      "text/plain": [
       "21207.759465370305"
      ]
     },
     "execution_count": 95,
     "metadata": {},
     "output_type": "execute_result"
    }
   ],
   "source": [
    "lr_yellow.coef_[0]"
   ]
  },
  {
   "cell_type": "markdown",
   "metadata": {},
   "source": [
    "The linear regression has a great R-Squared score, and the coefficient is very close to the literature value for Yellow 5's molar absorptivity (2.12E4)."
   ]
  },
  {
   "cell_type": "markdown",
   "metadata": {},
   "source": [
    "# Sample"
   ]
  },
  {
   "cell_type": "markdown",
   "metadata": {},
   "source": [
    "For the sake of space, only one sample will be shown in this notebook. For full explanation of the calculations, you can view either the Appendix or the full paper in this repo."
   ]
  },
  {
   "cell_type": "code",
   "execution_count": 96,
   "metadata": {},
   "outputs": [],
   "source": [
    "mdew = pd.read_csv('CSVs/Samples/Mnt Dew.csv')"
   ]
  },
  {
   "cell_type": "code",
   "execution_count": 99,
   "metadata": {
    "scrolled": false
   },
   "outputs": [
    {
     "data": {
      "image/png": "[encoded data removed]",
      "text/plain": [
       "<Figure size 432x288 with 1 Axes>"
      ]
     },
     "metadata": {
      "needs_background": "light"
     },
     "output_type": "display_data"
    }
   ],
   "source": [
    "sns.lineplot(data = mdew, x = 'Wavelength (nm)', y = 'Abs')\n",
    "plt.xlim(350, 800)\n",
    "plt.ylim(0, 0.6)\n",
    "plt.title('Absorption Spectrum for Mountain Dew')\n",
    "plt.show()"
   ]
  },
  {
   "cell_type": "code",
   "execution_count": 100,
   "metadata": {},
   "outputs": [],
   "source": [
    "mdew['Wavelength (nm)'] = mdew['Wavelength (nm)'].round(0)"
   ]
  },
  {
   "cell_type": "markdown",
   "metadata": {},
   "source": [
    "We only care about the absorbance at 429 nm, since that is the lambda max for Yellow 5."
   ]
  },
  {
   "cell_type": "code",
   "execution_count": 101,
   "metadata": {},
   "outputs": [],
   "source": [
    "mdew_abs = list(mdew[mdew['Wavelength (nm)'] == yellow_max]['Abs'])[0]"
   ]
  },
  {
   "cell_type": "markdown",
   "metadata": {},
   "source": [
    "First, I calculate the mass of Yellow 5 in 100 mL of sample."
   ]
  },
  {
   "cell_type": "code",
   "execution_count": 102,
   "metadata": {},
   "outputs": [
    {
     "data": {
      "text/plain": [
       "'The mass of Yellow 5 is 1.0252 mg.'"
      ]
     },
     "execution_count": 102,
     "metadata": {},
     "output_type": "execute_result"
    }
   ],
   "source": [
    "calc_mass(lr = lr_yellow, absorbance = mdew_abs, color = 'yellow', serving_size = 100)"
   ]
  },
  {
   "cell_type": "markdown",
   "metadata": {},
   "source": [
    "Then, I calculate the mass of Yellow 5 in one serving of Mountian Dew, which is 591 mL."
   ]
  },
  {
   "cell_type": "code",
   "execution_count": 103,
   "metadata": {},
   "outputs": [
    {
     "data": {
      "text/plain": [
       "'The mass of Yellow 5 is 6.0591 mg.'"
      ]
     },
     "execution_count": 103,
     "metadata": {},
     "output_type": "execute_result"
    }
   ],
   "source": [
    "calc_mass(lr = lr_yellow, absorbance = mdew_abs, color = 'yellow', serving_size = 591)"
   ]
  }
 ],
 "metadata": {
  "kernelspec": {
   "display_name": "Python 3",
   "language": "python",
   "name": "python3"
  },
  "language_info": {
   "codemirror_mode": {
    "name": "ipython",
    "version": 3
   },
   "file_extension": ".py",
   "mimetype": "text/x-python",
   "name": "python",
   "nbconvert_exporter": "python",
   "pygments_lexer": "ipython3",
   "version": "3.7.6"
  }
 },
 "nbformat": 4,
 "nbformat_minor": 4
}
